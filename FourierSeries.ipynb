{
 "cells": [
  {
   "cell_type": "markdown",
   "metadata": {
    "deletable": true,
    "editable": true
   },
   "source": [
    "<table>\n",
    " <tr align=left><td><img align=left src=\"./images/CC-BY.png\">\n",
    " <td>Text provided under a Creative Commons Attribution license, CC-BY. All code is made available under the FSF-approved MIT license. (c) Marc Spiegelman</td>\n",
    "</table>"
   ]
  },
  {
   "cell_type": "code",
   "execution_count": null,
   "metadata": {
    "collapsed": false,
    "deletable": true,
    "editable": true,
    "slideshow": {
     "slide_type": "skip"
    }
   },
   "outputs": [],
   "source": [
    "import numpy as np\n",
    "import scipy.linalg as la\n",
    "import matplotlib.pyplot as plt\n",
    "% matplotlib inline"
   ]
  },
  {
   "cell_type": "markdown",
   "metadata": {
    "deletable": true,
    "editable": true,
    "slideshow": {
     "slide_type": "slide"
    }
   },
   "source": [
    "# Fun with Fourier Series\n",
    "\n",
    "**GOAL:** visualize some basic behavior of Fourier Series"
   ]
  },
  {
   "cell_type": "markdown",
   "metadata": {
    "deletable": true,
    "editable": true,
    "slideshow": {
     "slide_type": "slide"
    }
   },
   "source": [
    "### Fourier Sine Series of 1\n",
    "\n",
    "Here we will calculate the Fourier Sine series on the interval $[0,1]$ as\n",
    "\n",
    "$$\n",
    "    1 = \\sum_{n-odd}^\\infty \\frac{4}{n\\pi} \\sin(n\\pi x)\n",
    "$$\n",
    "\n"
   ]
  },
  {
   "cell_type": "code",
   "execution_count": null,
   "metadata": {
    "collapsed": false,
    "deletable": true,
    "editable": true
   },
   "outputs": [],
   "source": [
    "x = np.linspace(0,1,1000)\n",
    "\n",
    "# small python function to define the partial sum for the truncated Fourier Series f_N\n",
    "def f_N(x,N):\n",
    "    na = range(1,N+1,2)\n",
    "    f_N = np.zeros(x.shape)\n",
    "    for n in na:\n",
    "        f_N += 4./(n*np.pi)*np.sin(n*np.pi*x) \n",
    "    return f_N\n",
    "\n",
    "# And make a figure showing f_N for increasing values of N\n",
    "Na = [ 1, 3, 5, 11, 101]\n",
    "\n",
    "plt.figure()\n",
    "for N in Na:\n",
    "    plt.plot(x,f_N(x,N),label='N={}'.format(N))\n",
    "plt.plot(x,np.ones(x.shape),'k',label='$f(x)=1$')\n",
    "plt.xlabel('x')\n",
    "plt.legend(loc='best')\n",
    "plt.grid()\n",
    "plt.show()\n",
    "\n",
    "\n"
   ]
  },
  {
   "cell_type": "markdown",
   "metadata": {
    "deletable": true,
    "editable": true,
    "slideshow": {
     "slide_type": "slide"
    }
   },
   "source": [
    "### Fourier Sine Series of $x(1-x)$\n",
    "\n",
    "The previous series converges extremely slowly due to the discontinuities at the end-points and that $f(x)=1$ does not share the same boundary conditions as the eigenfunctions $\\phi_n(x)=\\sin(n\\pi x)$ which are zero at the boundaries.  For $C^2$ functions that share the same boundary conditions, however,  Fourier Series can converge quite quickly. Here we will calculate the Fourier Sine series of the parabola $f(x) = x(1-x)$ on the interval $[0,1]$ which satisfies these conditions.  \n",
    "\n",
    "The Fourier coefficients for this function are\n",
    "\n",
    "$$\n",
    "    a_n = 2\\int_0^1 (x - x^2) sin(n\\pi x) dx = \\frac{8}{n^3\\pi^3}\n",
    "$$\n",
    "for $n$ odd.  These can be found relatively easily by successive integration by parts (Homework).\n",
    "\n",
    "So the Fourier Sine series of $f$ is\n",
    "$$\n",
    "    x(1-x) = \\sum_{n-odd}^\\infty \\frac{8}{(n\\pi)^3} \\sin(n\\pi x)\n",
    "$$\n",
    "\n"
   ]
  },
  {
   "cell_type": "code",
   "execution_count": null,
   "metadata": {
    "collapsed": false,
    "deletable": true,
    "editable": true
   },
   "outputs": [],
   "source": [
    "x = np.linspace(0,1,1000)\n",
    "\n",
    "# small python function to define the partial sum for the truncated Fourier Series f_N\n",
    "def f_N(x,N):\n",
    "    na = range(1,N+1,2)\n",
    "    f_N = np.zeros(x.shape)\n",
    "    for n in na:\n",
    "        f_N += 8./(n*np.pi)**3*np.sin(n*np.pi*x) \n",
    "    return f_N\n",
    "\n",
    "# And make a figure showing f_N for increasing values of N\n",
    "Na = [ 1, 3, 5, 11, 101]\n",
    "\n",
    "plt.figure()\n",
    "for N in Na:\n",
    "    plt.plot(x,f_N(x,N),label='N={}'.format(N))\n",
    "plt.plot(x,x*(1-x),'k',label='$f(x)=x(1-x)$')\n",
    "plt.xlabel('x')\n",
    "plt.legend(loc='best')\n",
    "plt.grid()\n",
    "plt.show()\n",
    "\n",
    "\n"
   ]
  }
 ],
 "metadata": {
  "kernelspec": {
   "display_name": "Python 2",
   "language": "python",
   "name": "python2"
  },
  "language_info": {
   "codemirror_mode": {
    "name": "ipython",
    "version": 2
   },
   "file_extension": ".py",
   "mimetype": "text/x-python",
   "name": "python",
   "nbconvert_exporter": "python",
   "pygments_lexer": "ipython2",
   "version": "2.7.13"
  }
 },
 "nbformat": 4,
 "nbformat_minor": 0
}
