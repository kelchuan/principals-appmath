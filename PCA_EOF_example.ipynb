{
 "cells": [
  {
   "cell_type": "markdown",
   "metadata": {},
   "source": [
    "<table>\n",
    " <tr align=left><td><img align=left src=\"./images/CC-BY.png\">\n",
    " <td>Text provided under a Creative Commons Attribution license, CC-BY. All code is made available under the FSF-approved MIT license. (c) Marc Spiegelman</td>\n",
    "</table>"
   ]
  },
  {
   "cell_type": "code",
   "execution_count": null,
   "metadata": {
    "collapsed": false,
    "slideshow": {
     "slide_type": "skip"
    }
   },
   "outputs": [],
   "source": [
    "%matplotlib inline\n",
    "import numpy as np\n",
    "import scipy.linalg as la\n",
    "import matplotlib.pyplot as plt\n",
    "import csv"
   ]
  },
  {
   "cell_type": "markdown",
   "metadata": {
    "slideshow": {
     "slide_type": "slide"
    }
   },
   "source": [
    "# Principal Component/EOF analysis\n",
    "\n",
    "**GOAL:** Demonstrate the use of the SVD to calculate principal components or \"Empirical Orthogonal Functions\" in a geophysical data set.  This example is modified from a paper by Chris Small (LDEO)\n",
    "\n",
    "Small, C., 1994. A global analysis of mid-ocean ridge axial topography. Geophys J Int 116, 64–84. [doi:10.1111/j.1365-246X.1994.tb02128.x](https://academic.oup.com/gji/article/116/1/64/638843/A-global-analysis-of-mid-ocean-ridge-axial)\n"
   ]
  },
  {
   "cell_type": "markdown",
   "metadata": {
    "slideshow": {
     "slide_type": "slide"
    }
   },
   "source": [
    "## The Data\n",
    "\n",
    "Here we will consider a set of topography profiles taken across the global mid-ocean ridge system where the Earth's tectonic plates are spreading apart.\n",
    "<table>\n",
    "     <tr align=center><td><img align=center src=\"./images/World_OceanFloor_topo_green_brown_1440x720.jpg\"><td>\n",
    "</table>\n",
    "\n",
    "The data consists of 156 profiles from a range of spreading rates. Each profile contains 80 samples so is in effect a vector in $R^{80}$"
   ]
  },
  {
   "cell_type": "code",
   "execution_count": null,
   "metadata": {
    "collapsed": false
   },
   "outputs": [],
   "source": [
    "# read the data from the csv file\n",
    "data = np.genfromtxt('m80.csv', delimiter='')\n",
    "data_mean =  np.mean(data,0)\n",
    "\n",
    "# and plot out a few profiles and the mean depth.\n",
    "plt.figure()\n",
    "rows = [ 9,59,99]\n",
    "labels = [ 'slow','medium','fast']\n",
    "for i,row in enumerate(rows):\n",
    "    plt.plot(data[row,:],label=labels[i])\n",
    "    plt.hold(True)\n",
    "plt.plot(data_mean,'k--',label='mean')\n",
    "plt.xlabel('Distance across axis (km)')\n",
    "plt.ylabel('Relative Elevation (m)')\n",
    "plt.legend(loc='best')\n",
    "plt.title('Example cross-axis topography of mid-ocean ridges')\n",
    "plt.show()\n"
   ]
  },
  {
   "cell_type": "markdown",
   "metadata": {},
   "source": [
    "### EOF analysis\n",
    "\n",
    "While each profile lives in an 80 dimensional space, we would like to see if we can classify the variability in fewer components.  To begin we form a de-meaned data matrix $X$ where each row is a profile.\n"
   ]
  },
  {
   "cell_type": "code",
   "execution_count": null,
   "metadata": {
    "collapsed": false
   },
   "outputs": [],
   "source": [
    "plt.figure()\n",
    "X = data - data_mean\n",
    "plt.imshow(X)\n",
    "plt.xlabel('Distance across axis (Km)')\n",
    "plt.ylabel('Relative Spreading Rate')\n",
    "plt.colorbar()\n",
    "plt.show()"
   ]
  },
  {
   "cell_type": "markdown",
   "metadata": {},
   "source": [
    "### Applying the SVD\n",
    "\n",
    "We now use the SVD to factor the data matrix as $X = U\\Sigma V^T$\n"
   ]
  },
  {
   "cell_type": "code",
   "execution_count": null,
   "metadata": {
    "collapsed": false
   },
   "outputs": [],
   "source": [
    "# now calculate the SVD of the de-meaned data matrix\n",
    "U,S,Vt = la.svd(X,full_matrices=False)"
   ]
  },
  {
   "cell_type": "markdown",
   "metadata": {},
   "source": [
    "And begin by looking at the spectrum of singular values $\\Sigma$.  Defining the variance as $\\Sigma^2$ then we can also calculate the cumulative contribution to the total variance as \n",
    "\n",
    "$$\n",
    "    g_k = \\frac{\\sum_{i=0}^k \\sigma_i^2}{\\sum_{i=0}^n \\sigma_i^2}\n",
    "$$\n",
    "\n",
    "Plotting both $\\Sigma$ and $g$ shows that $\\sim$ 80% of the total variance can be explained by the first 4-5 Components"
   ]
  },
  {
   "cell_type": "code",
   "execution_count": null,
   "metadata": {
    "collapsed": false
   },
   "outputs": [],
   "source": [
    "# plot the singular values\n",
    "plt.figure()\n",
    "plt.semilogy(S,'bo')\n",
    "plt.grid()\n",
    "plt.title('Singular Values')\n",
    "plt.show()\n",
    "\n",
    "# and cumulative percent of variance\n",
    "g = np.cumsum(S*S)/np.sum(S*S)\n",
    "plt.figure()\n",
    "plt.plot(g,'bx-')\n",
    "plt.title('% cumulative percent variance explained')\n",
    "plt.grid()\n",
    "plt.show()"
   ]
  },
  {
   "cell_type": "markdown",
   "metadata": {
    "collapsed": true
   },
   "source": [
    "Plotting the first 4 Singular Vectors in $V$,  shows them to reflect some commonly occuring patterns in the data"
   ]
  },
  {
   "cell_type": "code",
   "execution_count": null,
   "metadata": {
    "collapsed": false
   },
   "outputs": [],
   "source": [
    "plt.figure()\n",
    "num_EOFs=3\n",
    "for row in range(num_EOFs):\n",
    "    plt.plot(Vt[row,:],label='EOF{}'.format(row+1))\n",
    "plt.grid()\n",
    "plt.xlabel('Distance (km)')\n",
    "plt.title('First {} EOFs '.format(num_EOFs))\n",
    "plt.legend(loc='best')\n",
    "plt.show()"
   ]
  },
  {
   "cell_type": "markdown",
   "metadata": {},
   "source": [
    "For example,  the first EOF pattern is primarily a symmetric pattern with an axial high surrounded by two off axis troughs (or an axial low with two flanking highs,  the EOF's are just unit vector bases for the row-space and can be added with any positive or negative coefficient).  The Second EOF is broader and all of one sign while the third EOF encodes assymetry."
   ]
  },
  {
   "cell_type": "markdown",
   "metadata": {},
   "source": [
    "### Reconstruction\n",
    "\n",
    "Using the SVD we can also decompose each profile into a weighted linear combination of EOF's i.e.\n",
    "\n",
    "$$\n",
    "    X = U\\Sigma V^T = C V^T\n",
    "$$\n",
    "\n",
    "where $C = U\\Sigma$ is a matrix of coefficients  that describes the how each data row is decomposed into the relevant basis vectors.  We can then produce a k-rank truncated representation of the data by\n",
    "\n",
    "$$ \n",
    "    X_k = C_k V_k^T\n",
    "$$\n",
    "\n",
    "where $C_k$ is the first $k$ columns of $C$ and $V_k$ is the first $k$ EOF's.  \n",
    "\n",
    "Here we show the original data and the reconstructed data using the first 5 EOF's"
   ]
  },
  {
   "cell_type": "code",
   "execution_count": null,
   "metadata": {
    "collapsed": false
   },
   "outputs": [],
   "source": [
    "# recontruct the data using the first 5 EOF's\n",
    "k=5\n",
    "Ck = np.dot(U[:,:k],np.diag(S[:k]))\n",
    "Vtk = Vt[:k,:]\n",
    "data_k = data_mean + np.dot(Ck,Vtk)\n",
    "\n",
    "plt.figure()\n",
    "plt.imshow(data_k)\n",
    "plt.colorbar()\n",
    "plt.title('reconstructed data')\n",
    "plt.show()\n"
   ]
  },
  {
   "cell_type": "markdown",
   "metadata": {},
   "source": [
    "And we can consider a few reconstructed profiles compared with the original data"
   ]
  },
  {
   "cell_type": "code",
   "execution_count": null,
   "metadata": {
    "collapsed": false
   },
   "outputs": [],
   "source": [
    "# show the original 3 profiles and their recontructed values using the first k EOF's\n",
    "for i,row in enumerate(rows):\n",
    "    plt.figure()\n",
    "    plt.plot(data_k[row,:],label='k={}'.format(k))\n",
    "    plt.hold(True)\n",
    "    plt.plot(data[row,:],label='original data')\n",
    "    Cstring = [ '{:3.0f},  '.format(Ck[row,i]) for i in range(k) ]\n",
    "    plt.title('Reconstruction profile {}:\\n C_{}='.format(row,k)+''.join(Cstring))\n",
    "    plt.legend(loc='best')\n",
    "    plt.show()\n",
    "    "
   ]
  },
  {
   "cell_type": "markdown",
   "metadata": {},
   "source": [
    "## projection of data onto a subspace\n",
    "\n",
    "We can also use the Principal Components to look at the projection of the data onto a lower dimensional space as the coefficients $C$, are simply the coordinates of our data along each principal component.  For example we can view the data in the 2-Dimensional space defined by the first 2 EOF's by simply plotting C_1 against C_2."
   ]
  },
  {
   "cell_type": "code",
   "execution_count": null,
   "metadata": {
    "collapsed": false
   },
   "outputs": [],
   "source": [
    "# plot the data in the plane defined by the first two principal components\n",
    "plt.figure()\n",
    "plt.scatter(Ck[:,0],Ck[:,1])\n",
    "plt.xlabel('$V_1$')\n",
    "plt.ylabel('$V_2$')\n",
    "plt.grid()\n",
    "plt.title('Projection onto the first two principal components')\n",
    "plt.show()\n",
    "\n",
    "# Or consider the degree of assymetry (EOF 3) as a function of spreading rate\n",
    "plt.figure()\n",
    "plt.plot(Ck[:,2],'bo')\n",
    "plt.xlabel('Spreading rate')\n",
    "plt.ylabel('$C_3$')\n",
    "plt.grid()\n",
    "plt.title('Degree of assymetry')\n",
    "plt.show()"
   ]
  },
  {
   "cell_type": "code",
   "execution_count": null,
   "metadata": {
    "collapsed": true
   },
   "outputs": [],
   "source": []
  }
 ],
 "metadata": {
  "kernelspec": {
   "display_name": "Python 2",
   "language": "python",
   "name": "python2"
  },
  "language_info": {
   "codemirror_mode": {
    "name": "ipython",
    "version": 2
   },
   "file_extension": ".py",
   "mimetype": "text/x-python",
   "name": "python",
   "nbconvert_exporter": "python",
   "pygments_lexer": "ipython2",
   "version": "2.7.13"
  }
 },
 "nbformat": 4,
 "nbformat_minor": 0
}
